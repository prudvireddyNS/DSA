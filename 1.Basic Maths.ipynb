{
 "cells": [
  {
   "cell_type": "markdown",
   "id": "42e6d852-99d8-4511-98e7-336a060cf110",
   "metadata": {},
   "source": [
    "### Extract Digits"
   ]
  },
  {
   "cell_type": "code",
   "execution_count": 6,
   "id": "c15438c0-cd3b-45f9-afa9-7b933ba872af",
   "metadata": {},
   "outputs": [
    {
     "name": "stdout",
     "output_type": "stream",
     "text": [
      "4\n"
     ]
    }
   ],
   "source": [
    "n = 7889\n",
    "\n",
    "# last_digit = n%10\n",
    "# print(last_digit)\n",
    "\n",
    "# while n>0:\n",
    "#     print(n%10)\n",
    "#     n = n//10\n",
    "\n",
    "cnt = 0\n",
    "while n>0:\n",
    "    cnt += 1\n",
    "    n = n//10\n",
    "print(cnt)"
   ]
  },
  {
   "cell_type": "code",
   "execution_count": 32,
   "id": "8db3e05a-c28a-46db-8557-64562605bf70",
   "metadata": {},
   "outputs": [
    {
     "name": "stdout",
     "output_type": "stream",
     "text": [
      "9789\n"
     ]
    }
   ],
   "source": [
    "# reverse a number skip trailing zeros\n",
    "n = 987900\n",
    "rev = 0\n",
    "while n>0:\n",
    "    ld = n%10\n",
    "    if ld != 0:\n",
    "        rev = (rev * 10) + ld\n",
    "    n = n//10\n",
    "print(rev)"
   ]
  },
  {
   "cell_type": "code",
   "execution_count": 35,
   "id": "fb6b75d6-0632-4e7a-930f-57c7c7547d45",
   "metadata": {},
   "outputs": [
    {
     "name": "stdout",
     "output_type": "stream",
     "text": [
      "palindrome\n"
     ]
    }
   ],
   "source": [
    "# palindrome\n",
    "\n",
    "n = 123321\n",
    "\n",
    "n = str(n)\n",
    "r = n[::-1]\n",
    "if n == r:\n",
    "    print(\"palindrome\")\n",
    "else:\n",
    "    print(\"not a palindrome\")"
   ]
  },
  {
   "cell_type": "code",
   "execution_count": 40,
   "id": "df666711-7915-40e7-a2b9-c77df0ca5fb1",
   "metadata": {},
   "outputs": [
    {
     "name": "stdout",
     "output_type": "stream",
     "text": [
      "not a palindrome\n"
     ]
    }
   ],
   "source": [
    "n = 311\n",
    "\n",
    "temp = n\n",
    "rev = 0\n",
    "while n > 0:\n",
    "    ld = n % 10\n",
    "    rev = rev * 10 + ld \n",
    "    n = n // 10\n",
    "if temp == rev:\n",
    "    print('palindrome')\n",
    "else:\n",
    "    print('not a palindrome')"
   ]
  },
  {
   "cell_type": "code",
   "execution_count": 44,
   "id": "33e48ed4-2337-468b-b7e3-10249c1e9595",
   "metadata": {},
   "outputs": [
    {
     "name": "stdout",
     "output_type": "stream",
     "text": [
      "Not a Armstrong\n"
     ]
    }
   ],
   "source": [
    "# Armstrong\n",
    "\n",
    "n = 3711\n",
    "temp = n\n",
    "sum = 0\n",
    "while n > 0:\n",
    "    ld = n % 10\n",
    "    sum = sum + ld**3\n",
    "    n = n//10\n",
    "if sum == temp:\n",
    "    print('Armstrong')\n",
    "else:\n",
    "    print('Not a Armstrong')"
   ]
  },
  {
   "cell_type": "code",
   "execution_count": 47,
   "id": "27503ea7-7bf6-4ddc-adb6-25543ee4c023",
   "metadata": {},
   "outputs": [
    {
     "name": "stdout",
     "output_type": "stream",
     "text": [
      "1\n",
      "2\n",
      "3\n",
      "4\n",
      "6\n",
      "9\n",
      "12\n",
      "18\n",
      "36\n"
     ]
    }
   ],
   "source": [
    "# Print all Divisors\n",
    "n = 36\n",
    "for i in range(1,n+1):\n",
    "    if n % i == 0:\n",
    "        print(i)"
   ]
  },
  {
   "cell_type": "code",
   "execution_count": 69,
   "id": "c0f24e7f-54d8-4e0a-9e42-898571083c4c",
   "metadata": {},
   "outputs": [
    {
     "name": "stdout",
     "output_type": "stream",
     "text": [
      "[1, 2, 3, 4, 6, 9, 12, 18, 36]\n"
     ]
    }
   ],
   "source": [
    "# mathematical approach\n",
    "n = 36\n",
    "list = []\n",
    "for i in range(1,int(n**0.5)+1):\n",
    "    if n % i == 0:\n",
    "        list.append(i)\n",
    "        if (n/i) != i:\n",
    "            list.append(int(n/i))\n",
    "print(sorted(list))"
   ]
  },
  {
   "cell_type": "code",
   "execution_count": 74,
   "id": "7447fd1c-bc0c-4651-bb47-916cff9a5d57",
   "metadata": {},
   "outputs": [
    {
     "name": "stdout",
     "output_type": "stream",
     "text": [
      "not a prime\n"
     ]
    }
   ],
   "source": [
    "# prime numbers\n",
    "\n",
    "n = 147\n",
    "cnt = 0\n",
    "for i in range(1,n+1):\n",
    "    if n%i == 0:\n",
    "        cnt += 1\n",
    "if cnt == 2:\n",
    "    print(\"prime\")\n",
    "else:\n",
    "    print(\"not a prime\")"
   ]
  },
  {
   "cell_type": "code",
   "execution_count": 79,
   "id": "a89f136e-b3c3-4eb5-b1ae-b78bff71765a",
   "metadata": {},
   "outputs": [
    {
     "name": "stdout",
     "output_type": "stream",
     "text": [
      "not a prime\n"
     ]
    }
   ],
   "source": [
    "# mathematical approach\n",
    "\n",
    "n = 1\n",
    "cnt = 0\n",
    "for i in range(1, int(n**0.5)+1):\n",
    "    if n%i ==0:\n",
    "        cnt += 1\n",
    "        if n/i != i:\n",
    "            cnt += 1\n",
    "if cnt == 2:\n",
    "    print(\"prime\")\n",
    "else:\n",
    "    print(\"not a prime\")"
   ]
  },
  {
   "cell_type": "code",
   "execution_count": 88,
   "id": "9f0378b3-aac7-4428-b77d-809911e870bb",
   "metadata": {},
   "outputs": [
    {
     "name": "stdout",
     "output_type": "stream",
     "text": [
      "1\n"
     ]
    }
   ],
   "source": [
    "# GCD or HCF\n",
    "\n",
    "n = 11; m = 20\n",
    "for i in range(min(n,m), 0, -1):\n",
    "    if n%i == 0 and m%i == 0:\n",
    "        print(i)\n",
    "        break"
   ]
  },
  {
   "cell_type": "code",
   "execution_count": 91,
   "id": "7e0128a8-7260-4731-b162-a513340d0ad9",
   "metadata": {},
   "outputs": [
    {
     "name": "stdout",
     "output_type": "stream",
     "text": [
      "10\n"
     ]
    }
   ],
   "source": [
    "# euclidian approach\n",
    "a = 10; b = 20\n",
    "while(a>0 and b>0):\n",
    "    if b>a:\n",
    "        b = b%a\n",
    "    else:\n",
    "        a = a%b\n",
    "if a == 0:\n",
    "    print(b)\n",
    "else:\n",
    "    print(a)"
   ]
  },
  {
   "cell_type": "code",
   "execution_count": 94,
   "id": "92a26013-8cc0-4fb7-a761-b891ef332e13",
   "metadata": {},
   "outputs": [
    {
     "name": "stdout",
     "output_type": "stream",
     "text": [
      "false\n"
     ]
    }
   ],
   "source": [
    "x = -10\n",
    "if x<0:\n",
    "    print('false')\n",
    "x = str(x)\n",
    "rev = x[::-1]\n",
    "if x == rev:\n",
    "    print('true')"
   ]
  },
  {
   "cell_type": "code",
   "execution_count": null,
   "id": "352544ab-0cfd-4149-a93d-dfbf4d4741b2",
   "metadata": {},
   "outputs": [],
   "source": []
  },
  {
   "cell_type": "code",
   "execution_count": null,
   "id": "5d27e68c-701f-4f0c-9d51-8a525aa2656c",
   "metadata": {},
   "outputs": [],
   "source": []
  }
 ],
 "metadata": {
  "kernelspec": {
   "display_name": "Python 3 (ipykernel)",
   "language": "python",
   "name": "python3"
  },
  "language_info": {
   "codemirror_mode": {
    "name": "ipython",
    "version": 3
   },
   "file_extension": ".py",
   "mimetype": "text/x-python",
   "name": "python",
   "nbconvert_exporter": "python",
   "pygments_lexer": "ipython3",
   "version": "3.8.10"
  }
 },
 "nbformat": 4,
 "nbformat_minor": 5
}
