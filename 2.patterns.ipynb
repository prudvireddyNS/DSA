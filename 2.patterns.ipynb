{
 "cells": [
  {
   "cell_type": "code",
   "execution_count": 5,
   "id": "d62438c7-a8df-4feb-8334-31d52da38b48",
   "metadata": {},
   "outputs": [],
   "source": [
    "# pattern - 1"
   ]
  },
  {
   "cell_type": "code",
   "execution_count": 4,
   "id": "6f8b0eaa-2896-4336-a22f-87a93487c6e3",
   "metadata": {},
   "outputs": [
    {
     "name": "stdout",
     "output_type": "stream",
     "text": [
      "* * * * \n",
      "* * * * \n",
      "* * * * \n",
      "* * * * \n"
     ]
    }
   ],
   "source": [
    "for i in range(4):\n",
    "    for j in range(4):\n",
    "        print(\"*\", end=' ')\n",
    "    print()"
   ]
  },
  {
   "cell_type": "code",
   "execution_count": 6,
   "id": "72362aa2-aa7a-4e28-92e3-75aaecbfd3da",
   "metadata": {},
   "outputs": [],
   "source": [
    "# pattern - 2"
   ]
  },
  {
   "cell_type": "code",
   "execution_count": 18,
   "id": "28a2f401-230a-44eb-815a-3cbde1855045",
   "metadata": {},
   "outputs": [
    {
     "name": "stdout",
     "output_type": "stream",
     "text": [
      "* \n",
      "* * \n",
      "* * * \n",
      "* * * * \n",
      "* * * * * \n"
     ]
    }
   ],
   "source": [
    "n = 5\n",
    "for i in range(n):\n",
    "    for j in range(i+1):\n",
    "        print(\"*\", end = ' ')\n",
    "    print()"
   ]
  },
  {
   "cell_type": "code",
   "execution_count": 10,
   "id": "834e134f-4e55-4ccb-8b7c-d35fc6e56bec",
   "metadata": {},
   "outputs": [],
   "source": [
    "# pattern - 3"
   ]
  },
  {
   "cell_type": "code",
   "execution_count": 17,
   "id": "f92f8962-bc84-470b-bc59-ee1d5bacaeab",
   "metadata": {},
   "outputs": [
    {
     "name": "stdout",
     "output_type": "stream",
     "text": [
      "1 \n",
      "1 2 \n",
      "1 2 3 \n",
      "1 2 3 4 \n",
      "1 2 3 4 5 \n"
     ]
    }
   ],
   "source": [
    "n = 5\n",
    "for i in range(1,n+1):\n",
    "    for j in range(1, i+1):\n",
    "        print(j, end = ' ')\n",
    "    print()"
   ]
  },
  {
   "cell_type": "code",
   "execution_count": 27,
   "id": "5cb0fb87-1cb4-45e7-a5e9-4389694135e5",
   "metadata": {},
   "outputs": [],
   "source": [
    "# pattern - 4"
   ]
  },
  {
   "cell_type": "code",
   "execution_count": 19,
   "id": "b8d181b0-6f95-4ec4-9276-1b3137e35fce",
   "metadata": {},
   "outputs": [
    {
     "name": "stdout",
     "output_type": "stream",
     "text": [
      "1 \n",
      "2 2 \n",
      "3 3 3 \n",
      "4 4 4 4 \n",
      "5 5 5 5 5 \n"
     ]
    }
   ],
   "source": [
    "n = 5\n",
    "for i in range(1, n+1):\n",
    "    for j in range(1, i+1):\n",
    "        print(i, end = ' ')\n",
    "    print()"
   ]
  },
  {
   "cell_type": "code",
   "execution_count": 28,
   "id": "f9d4e0fe-c8d1-4fe0-94cf-595d3644c2fa",
   "metadata": {},
   "outputs": [],
   "source": [
    "# pattern - 5"
   ]
  },
  {
   "cell_type": "code",
   "execution_count": 20,
   "id": "2e8abe42-c678-47a0-932e-accfd398dc73",
   "metadata": {},
   "outputs": [
    {
     "name": "stdout",
     "output_type": "stream",
     "text": [
      "* * * * * \n",
      "* * * * \n",
      "* * * \n",
      "* * \n",
      "* \n"
     ]
    }
   ],
   "source": [
    "n = 5\n",
    "for i in range(n):\n",
    "    for j in range(n-i):\n",
    "        print('*', end=' ')\n",
    "    print()"
   ]
  },
  {
   "cell_type": "code",
   "execution_count": 29,
   "id": "6cc69ed3-82ad-4c76-a2b4-8db5d5512cd2",
   "metadata": {},
   "outputs": [],
   "source": [
    "# pattern - 6"
   ]
  },
  {
   "cell_type": "code",
   "execution_count": 26,
   "id": "af09c345-ee2e-4965-a226-480d715c60da",
   "metadata": {},
   "outputs": [
    {
     "name": "stdout",
     "output_type": "stream",
     "text": [
      "1 2 3 4 5 \n",
      "1 2 3 4 \n",
      "1 2 3 \n",
      "1 2 \n",
      "1 \n"
     ]
    }
   ],
   "source": [
    "n = 5\n",
    "for i in range(1, n+1):\n",
    "    for j in range(1, n-i+2):\n",
    "        print(j, end=' ')\n",
    "    print()"
   ]
  },
  {
   "cell_type": "code",
   "execution_count": 30,
   "id": "adbc0711-b105-46fb-b08d-fadb05e4d99f",
   "metadata": {},
   "outputs": [],
   "source": [
    "# pattern - 7"
   ]
  },
  {
   "cell_type": "code",
   "execution_count": 46,
   "id": "cbea2af2-ae36-4a36-a42d-589a208c1656",
   "metadata": {},
   "outputs": [
    {
     "name": "stdout",
     "output_type": "stream",
     "text": [
      "        *         \n",
      "      * * *       \n",
      "    * * * * *     \n",
      "  * * * * * * *   \n",
      "* * * * * * * * * \n"
     ]
    }
   ],
   "source": [
    "n = 5\n",
    "for i in range(n):\n",
    "    for j in range(n-i-1):\n",
    "        print(' ', end=' ')\n",
    "        \n",
    "    # for k in range(i+1):\n",
    "    #     print('*', end=' ')\n",
    "    # for l in range(i):\n",
    "    #     print('*', end=' ')\n",
    "    for j in range(2*i+1):\n",
    "        print('*', end=' ')\n",
    "        \n",
    "    for j in range(n-i-1):\n",
    "        print(' ', end=' ')\n",
    "    print()"
   ]
  },
  {
   "cell_type": "code",
   "execution_count": 47,
   "id": "9cd9d418-385f-4225-9b50-1557f50869e3",
   "metadata": {},
   "outputs": [],
   "source": [
    "# pattern - 8"
   ]
  },
  {
   "cell_type": "code",
   "execution_count": 53,
   "id": "735ac5c0-d71f-4aa3-b7c2-350d17384996",
   "metadata": {},
   "outputs": [
    {
     "name": "stdout",
     "output_type": "stream",
     "text": [
      "* * * * * * * * * \n",
      "  * * * * * * *   \n",
      "    * * * * *     \n",
      "      * * *       \n",
      "        *         \n"
     ]
    }
   ],
   "source": [
    "n = 5\n",
    "for i in range(n):\n",
    "    for j in range(i):\n",
    "        print(' ',end = ' ')\n",
    "    for j in range(2*n-2*i-1):\n",
    "        print('*', end=' ')\n",
    "    for j in range(i):\n",
    "        print(' ',end = ' ')\n",
    "    print()"
   ]
  },
  {
   "cell_type": "code",
   "execution_count": 54,
   "id": "98749773-b0da-424a-b674-7e1a73578f8e",
   "metadata": {},
   "outputs": [],
   "source": [
    "# pattern - 9"
   ]
  },
  {
   "cell_type": "code",
   "execution_count": 56,
   "id": "e6b64764-a448-4b31-b7e2-01f2762e8a8f",
   "metadata": {},
   "outputs": [
    {
     "name": "stdout",
     "output_type": "stream",
     "text": [
      "        *         \n",
      "      * * *       \n",
      "    * * * * *     \n",
      "  * * * * * * *   \n",
      "* * * * * * * * * \n",
      "* * * * * * * * * \n",
      "  * * * * * * *   \n",
      "    * * * * *     \n",
      "      * * *       \n",
      "        *         \n"
     ]
    }
   ],
   "source": [
    "n = 5\n",
    "for i in range(n):\n",
    "    for j in range(n-i-1):\n",
    "        print(' ', end=' ')\n",
    "\n",
    "    for j in range(2*i+1):\n",
    "        print('*', end=' ')\n",
    "        \n",
    "    for j in range(n-i-1):\n",
    "        print(' ', end=' ')\n",
    "    print()\n",
    "for i in range(n):\n",
    "    for j in range(i):\n",
    "        print(' ',end = ' ')\n",
    "    for j in range(2*n-2*i-1):\n",
    "        print('*', end=' ')\n",
    "    for j in range(i):\n",
    "        print(' ',end = ' ')\n",
    "    print()"
   ]
  },
  {
   "cell_type": "code",
   "execution_count": 57,
   "id": "6e33c9f0-739f-4856-b323-237a1956cbee",
   "metadata": {},
   "outputs": [],
   "source": [
    "# pattern - 10"
   ]
  },
  {
   "cell_type": "code",
   "execution_count": 82,
   "id": "a072bd38-645e-4e75-964b-627d74ea12e0",
   "metadata": {},
   "outputs": [
    {
     "name": "stdout",
     "output_type": "stream",
     "text": [
      "\n",
      "* \n",
      "* * \n",
      "* * * \n",
      "* * * * \n",
      "* * * * * \n",
      "* * * * \n",
      "* * * \n",
      "* * \n",
      "* \n"
     ]
    }
   ],
   "source": [
    "n = 5\n",
    "for i in range(2*n):\n",
    "    stars = i\n",
    "    if i>n:\n",
    "        stars = 2*n - i\n",
    "    for j in range(stars):\n",
    "        print('*', end=' ')\n",
    "    print()"
   ]
  },
  {
   "cell_type": "code",
   "execution_count": 83,
   "id": "4e547634-e273-4fb8-b246-46ac66161594",
   "metadata": {},
   "outputs": [],
   "source": [
    "# pattern - 11"
   ]
  },
  {
   "cell_type": "code",
   "execution_count": 87,
   "id": "28af0426-2a0d-4ddc-9acb-a016b5dd165d",
   "metadata": {},
   "outputs": [
    {
     "name": "stdout",
     "output_type": "stream",
     "text": [
      "1 \n",
      "0 1 \n",
      "1 0 1 \n",
      "0 1 0 1 \n",
      "1 0 1 0 1 \n"
     ]
    }
   ],
   "source": [
    "n = 5\n",
    "start = 0\n",
    "for i in range(n):\n",
    "    if i%2 == 0:\n",
    "        start = 1\n",
    "    else:\n",
    "        start = 0\n",
    "    for j in range(i+1):\n",
    "        print(start, end=' ')\n",
    "        start = 1 - start\n",
    "    print()"
   ]
  },
  {
   "cell_type": "code",
   "execution_count": 88,
   "id": "51f4c496-535f-4693-9caa-1f4afdab4fa2",
   "metadata": {},
   "outputs": [],
   "source": [
    "# pattern - 12"
   ]
  },
  {
   "cell_type": "code",
   "execution_count": 119,
   "id": "f2ddb523-8f3a-48f9-a581-e017414b53cb",
   "metadata": {},
   "outputs": [
    {
     "name": "stdout",
     "output_type": "stream",
     "text": [
      "1                 1 \n",
      "1 2             2 1 \n",
      "1 2 3         3 2 1 \n",
      "1 2 3 4     4 3 2 1 \n",
      "1 2 3 4 5 5 4 3 2 1 \n"
     ]
    }
   ],
   "source": [
    "n = 5\n",
    "for i in range(1, n+1):\n",
    "    for j in range(1, i+1):\n",
    "        print(j, end = ' ')\n",
    "    for j in range(2*(n-i)):\n",
    "        print(' ', end=' ')\n",
    "    for j in range(i,0,-1):\n",
    "        print(j, end=' ')\n",
    "    print()"
   ]
  },
  {
   "cell_type": "code",
   "execution_count": 120,
   "id": "4528d552-3163-4d57-961d-2545e3ca16d2",
   "metadata": {},
   "outputs": [],
   "source": [
    "# pattern - 13"
   ]
  },
  {
   "cell_type": "code",
   "execution_count": 135,
   "id": "22371551-ecbc-4545-8ed8-eca5e3595f51",
   "metadata": {},
   "outputs": [
    {
     "name": "stdout",
     "output_type": "stream",
     "text": [
      "1 \n",
      "2 3 \n",
      "4 5 6 \n",
      "7 8 9 10 \n",
      "11 12 13 14 15 \n"
     ]
    }
   ],
   "source": [
    "n = 5\n",
    "num = 1\n",
    "for i in range(1, n+1):\n",
    "    for j in range(1, i+1):\n",
    "        print(num, end = ' ')\n",
    "        num += 1\n",
    "    print()"
   ]
  },
  {
   "cell_type": "code",
   "execution_count": null,
   "id": "6a590f06-9be9-4ca0-830f-a52a89fffc3c",
   "metadata": {},
   "outputs": [],
   "source": [
    "# pattern - 14"
   ]
  },
  {
   "cell_type": "code",
   "execution_count": 156,
   "id": "6df2abda-9a64-45c5-82d0-c86abbe8d352",
   "metadata": {},
   "outputs": [
    {
     "name": "stdout",
     "output_type": "stream",
     "text": [
      "A \n",
      "A B \n",
      "A B C \n",
      "A B C D \n",
      "A B C D E \n"
     ]
    }
   ],
   "source": [
    "n = 5\n",
    "for i in range(n):\n",
    "    for char in range(ord('A'), ord('A')+i+1):\n",
    "        print(chr(char), end=' ')\n",
    "    print()"
   ]
  },
  {
   "cell_type": "code",
   "execution_count": 157,
   "id": "7d5f7cb0-afd1-4e04-856d-7e108d6385ad",
   "metadata": {},
   "outputs": [],
   "source": [
    "# pattern - 15"
   ]
  },
  {
   "cell_type": "code",
   "execution_count": 173,
   "id": "c3f37222-94cd-4f62-874d-4e8a4ed7d2db",
   "metadata": {},
   "outputs": [
    {
     "name": "stdout",
     "output_type": "stream",
     "text": [
      "A B C D E \n",
      "A B C D \n",
      "A B C \n",
      "A B \n",
      "A \n"
     ]
    }
   ],
   "source": [
    "n = 5\n",
    "for i in range(n):\n",
    "    for char in range(ord('A'), ord('A')+n-i):\n",
    "        print(chr(char), end=' ')\n",
    "    print()"
   ]
  },
  {
   "cell_type": "code",
   "execution_count": 185,
   "id": "6fad8736-2931-4c18-84cd-5e931a6bbd4d",
   "metadata": {},
   "outputs": [],
   "source": [
    "# pattern - 16"
   ]
  },
  {
   "cell_type": "code",
   "execution_count": 184,
   "id": "0ab800fb-6abd-4670-a087-382db09d3c04",
   "metadata": {},
   "outputs": [
    {
     "name": "stdout",
     "output_type": "stream",
     "text": [
      "A \n",
      "B B \n",
      "C C C \n",
      "D D D D \n",
      "E E E E E \n"
     ]
    }
   ],
   "source": [
    "n = 5\n",
    "for i in range(n):\n",
    "    for j in range(i+1):\n",
    "        print(chr(ord('A')+i), end=' ')\n",
    "    print()"
   ]
  },
  {
   "cell_type": "code",
   "execution_count": 186,
   "id": "8303947a-9cb4-4e9a-a855-caf0a7df397a",
   "metadata": {},
   "outputs": [],
   "source": [
    "# pattern - 17"
   ]
  },
  {
   "cell_type": "code",
   "execution_count": 218,
   "id": "02292f7b-cd4f-4140-b5ba-95d426044420",
   "metadata": {},
   "outputs": [
    {
     "name": "stdout",
     "output_type": "stream",
     "text": [
      "        A         \n",
      "      A B A       \n",
      "    A B C B A     \n",
      "  A B C D C B A   \n",
      "A B C D E D C B A \n"
     ]
    }
   ],
   "source": [
    "n = 5\n",
    "for i in range(0, n):\n",
    "    for j in range(n-i-1):\n",
    "        print(' ', end = ' ')\n",
    "    char = ord('A')\n",
    "    for j in range(1, 2*i+2):\n",
    "        print(chr(char), end=' ')\n",
    "        if j<=(2*i+1)/2:\n",
    "            char += 1\n",
    "        else:\n",
    "            char -= 1\n",
    "    for j in range(n-i-1):\n",
    "        print(' ', end=' ')\n",
    "    print()"
   ]
  },
  {
   "cell_type": "code",
   "execution_count": 219,
   "id": "4caa9bfe-ddcb-43c6-b7ce-37de75efbad3",
   "metadata": {},
   "outputs": [],
   "source": [
    "# pattern - 18"
   ]
  },
  {
   "cell_type": "code",
   "execution_count": 227,
   "id": "d38ca351-7ab3-4fe4-aab7-0a128fe9b418",
   "metadata": {},
   "outputs": [
    {
     "name": "stdout",
     "output_type": "stream",
     "text": [
      "E \n",
      "D E \n",
      "C D E \n",
      "B C D E \n",
      "A B C D E \n"
     ]
    }
   ],
   "source": [
    "n = 5\n",
    "for i in range(n):\n",
    "    for char in range(ord('E')-i, ord('E')+1):\n",
    "        print(chr(char), end=' ')\n",
    "    print()"
   ]
  },
  {
   "cell_type": "code",
   "execution_count": 242,
   "id": "59ef13d6-6456-4e67-a2b0-7081e1b77c4e",
   "metadata": {},
   "outputs": [],
   "source": [
    "# pattern - 19"
   ]
  },
  {
   "cell_type": "code",
   "execution_count": 241,
   "id": "3db6492c-ac70-417d-aeeb-fd37c25bcc03",
   "metadata": {},
   "outputs": [
    {
     "name": "stdout",
     "output_type": "stream",
     "text": [
      "* * * * * * * * * * \n",
      "* * * *     * * * * \n",
      "* * *         * * * \n",
      "* *             * * \n",
      "*                 * \n",
      "*                 * \n",
      "* *             * * \n",
      "* * *         * * * \n",
      "* * * *     * * * * \n",
      "* * * * * * * * * * \n"
     ]
    }
   ],
   "source": [
    "n = 5\n",
    "for i in range(n):\n",
    "    for j in range(n-i):\n",
    "        print('*', end=' ')\n",
    "    for j in range(i*2):\n",
    "        print(' ', end=' ')\n",
    "    for j in range(n-i):\n",
    "        print('*', end=' ')\n",
    "    print() \n",
    "for i in range(n):\n",
    "    for j in range(i+1):\n",
    "        print('*', end=' ')\n",
    "    for j in range(2*(n-i-1),0,-1):\n",
    "        print(' ', end=' ')\n",
    "    for j in range(i+1):\n",
    "        print('*', end=' ')\n",
    "    print()"
   ]
  },
  {
   "cell_type": "code",
   "execution_count": 243,
   "id": "86458573-6bf6-4dba-8cf7-963409fcdb1e",
   "metadata": {},
   "outputs": [],
   "source": [
    "# pattern - 20"
   ]
  },
  {
   "cell_type": "code",
   "execution_count": 295,
   "id": "245b148c-7645-48c5-babd-8447772c2d7b",
   "metadata": {},
   "outputs": [
    {
     "name": "stdout",
     "output_type": "stream",
     "text": [
      "*                 * \n",
      "* *             * * \n",
      "* * *         * * * \n",
      "* * * *     * * * * \n",
      "* * * * * * * * * * \n",
      "* * * *     * * * * \n",
      "* * *         * * * \n",
      "* *             * * \n",
      "*                 * \n"
     ]
    }
   ],
   "source": [
    "n = 5\n",
    "spaces = 2*n-2\n",
    "for i in range(1, 2*n):\n",
    "    stars = i\n",
    "    if i>n:\n",
    "        stars = 2*n-i\n",
    "    for j in range(1, stars+1):\n",
    "        print('*',end=' ')\n",
    "    for j in range(1, spaces+1):\n",
    "        print(' ', end=' ')\n",
    "    for j in range(1, stars+1):\n",
    "        print('*', end=' ')\n",
    "    if i<n:\n",
    "        spaces -= 2\n",
    "    else:\n",
    "        spaces += 2\n",
    "    print()"
   ]
  },
  {
   "cell_type": "code",
   "execution_count": 296,
   "id": "9ae317be-6549-4cec-8424-6018b434fde9",
   "metadata": {},
   "outputs": [],
   "source": [
    "# pattern - 21"
   ]
  },
  {
   "cell_type": "code",
   "execution_count": 297,
   "id": "d1c445db-048d-4232-a08a-8d9ef28ae604",
   "metadata": {},
   "outputs": [
    {
     "name": "stdout",
     "output_type": "stream",
     "text": [
      "* * * * * \n",
      "*       * \n",
      "*       * \n",
      "*       * \n",
      "* * * * * \n"
     ]
    }
   ],
   "source": [
    "n = 5\n",
    "for i in range(n):\n",
    "    for j in range(n):\n",
    "        if i==0 or j==0 or i==n-1 or j==n-1:\n",
    "            print('*', end=' ')\n",
    "        else:\n",
    "            print(' ', end=' ')\n",
    "    print()"
   ]
  },
  {
   "cell_type": "code",
   "execution_count": 308,
   "id": "38491cdd-af6b-44b1-ab72-82df09deb5b0",
   "metadata": {},
   "outputs": [],
   "source": [
    "# pattern - 22"
   ]
  },
  {
   "cell_type": "code",
   "execution_count": 307,
   "id": "9916f697-8e85-477d-b90e-8c8abe5d8acc",
   "metadata": {},
   "outputs": [
    {
     "name": "stdout",
     "output_type": "stream",
     "text": [
      "4 4 4 4 4 4 4 \n",
      "4 3 3 3 3 3 4 \n",
      "4 3 2 2 2 3 4 \n",
      "4 3 2 1 2 3 4 \n",
      "4 3 2 2 2 3 4 \n",
      "4 3 3 3 3 3 4 \n",
      "4 4 4 4 4 4 4 \n"
     ]
    }
   ],
   "source": [
    "n = 4\n",
    "for i in range(2*n-1):\n",
    "    for j in range(2*n-1):\n",
    "        top = i\n",
    "        left = j\n",
    "        right = (2*n-2)-j\n",
    "        bottom = (2*n-2)-i\n",
    "        print(n - min(min(top, bottom), min(left, right)), end=' ') \n",
    "    print()"
   ]
  },
  {
   "cell_type": "code",
   "execution_count": null,
   "id": "9eda118e-2d80-4976-9e48-08998eb557f7",
   "metadata": {},
   "outputs": [],
   "source": []
  }
 ],
 "metadata": {
  "kernelspec": {
   "display_name": "Python 3 (ipykernel)",
   "language": "python",
   "name": "python3"
  },
  "language_info": {
   "codemirror_mode": {
    "name": "ipython",
    "version": 3
   },
   "file_extension": ".py",
   "mimetype": "text/x-python",
   "name": "python",
   "nbconvert_exporter": "python",
   "pygments_lexer": "ipython3",
   "version": "3.8.10"
  }
 },
 "nbformat": 4,
 "nbformat_minor": 5
}
